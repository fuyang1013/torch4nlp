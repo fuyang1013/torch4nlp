{
 "cells": [
  {
   "cell_type": "markdown",
   "metadata": {},
   "source": [
    "本文展示如何通过tfidf来做文本相似度匹配。开始之前，请将本文件从example目录中移至根目录下。"
   ]
  },
  {
   "cell_type": "code",
   "execution_count": 12,
   "metadata": {},
   "outputs": [],
   "source": [
    "import random\n",
    "import jieba\n",
    "from algorithm.tfidf import TFIDF"
   ]
  },
  {
   "cell_type": "markdown",
   "metadata": {},
   "source": [
    "首先看下语料的格式："
   ]
  },
  {
   "cell_type": "code",
   "execution_count": 13,
   "metadata": {},
   "outputs": [
    {
     "data": {
      "text/plain": [
       "['如何看待美国歌手侃爷确认参加 2024 年美国总统大选？',\n",
       " '老干妈去年营收下滑 10 多亿元，经销商吐槽一件货如今只赚两元，竞品精准占领市场，老干妈应如何破局？',\n",
       " '开放式厨房一定要集成灶吗?',\n",
       " '梅西卡塔尔首球！这一次，他能带领阿根廷圆梦吗？#2022世界杯',\n",
       " '空军航空兵暗夜出击训练大片',\n",
       " '如何看待网传北京外卖员「流浪」3天发求助信，美团回应称已安置住所？',\n",
       " '汤唯出席韩国影评奖颁奖礼',\n",
       " '小猫比人更认真',\n",
       " '朱正廷星河长明打戏',\n",
       " '河南安阳「11·21」火灾事故，4 人已被警方控制，他们将承担哪些法律责任？']"
      ]
     },
     "execution_count": 13,
     "metadata": {},
     "output_type": "execute_result"
    }
   ],
   "source": [
    "corpus_path = 'data/sample_news_title.data'\n",
    "corpus = open(corpus_path).read().splitlines()\n",
    "random.shuffle(corpus)\n",
    "corpus[:10]"
   ]
  },
  {
   "cell_type": "markdown",
   "metadata": {},
   "source": [
    "用分词工具进行切分"
   ]
  },
  {
   "cell_type": "code",
   "execution_count": 14,
   "metadata": {},
   "outputs": [
    {
     "name": "stdout",
     "output_type": "stream",
     "text": [
      "['如何', '看待', '美国', '歌手', '侃爷', '确认', '参加', ' ', '2024', ' ', '年', '美国', '总统大选', '？']\n",
      "['老干妈', '去年', '营收', '下滑', ' ', '10', ' ', '多亿元', '，', '经销商', '吐槽', '一件', '货', '如今', '只', '赚', '两元', '，', '竞品', '精准', '占领市场', '，', '老干妈', '应', '如何', '破局', '？']\n",
      "['开放式', '厨房', '一定', '要', '集成', '灶', '吗', '?']\n",
      "['梅西', '卡塔尔', '首球', '！', '这', '一次', '，', '他', '能', '带领', '阿根廷', '圆梦', '吗', '？', '#', '2022', '世界杯']\n",
      "['空军航空兵', '暗夜', '出击', '训练', '大片']\n",
      "['如何', '看待', '网传', '北京', '外卖', '员', '「', '流浪', '」', '3', '天发', '求助信', '，', '美团', '回应', '称', '已', '安置', '住所', '？']\n",
      "['汤', '唯', '出席', '韩国', '影', '评奖', '颁奖礼']\n",
      "['小猫', '比人', '更', '认真']\n",
      "['朱正廷', '星河', '长明', '打戏']\n",
      "['河南', '安阳', '「', '11', '·', '21', '」', '火灾事故', '，', '4', ' ', '人', '已', '被', '警方', '控制', '，', '他们', '将', '承担', '哪些', '法律责任', '？']\n"
     ]
    }
   ],
   "source": [
    "segmented_corpus = [jieba.lcut(x) for x in corpus]\n",
    "for x in segmented_corpus[:10]:\n",
    "    print(x)"
   ]
  },
  {
   "cell_type": "markdown",
   "metadata": {},
   "source": [
    "接下来我们创建tfidf学习器"
   ]
  },
  {
   "cell_type": "code",
   "execution_count": 15,
   "metadata": {},
   "outputs": [],
   "source": [
    "stop_words = [' ']\n",
    "tfidf = TFIDF(segmented_corpus, stop_words)"
   ]
  },
  {
   "cell_type": "markdown",
   "metadata": {},
   "source": [
    "接下来我们随机选取一个case，看看文本匹配的效果："
   ]
  },
  {
   "cell_type": "code",
   "execution_count": 16,
   "metadata": {},
   "outputs": [],
   "source": [
    "def show_most_sim_text(text):\n",
    "    print('输入文本:', text)\n",
    "    indices, scores = tfidf.get_top_doc(jieba.lcut(text), topk=3)\n",
    "    print('最匹配的文本：')\n",
    "    for i in range(len(indices)):\n",
    "        print(i, scores[i], corpus[indices[i]])"
   ]
  },
  {
   "cell_type": "code",
   "execution_count": 17,
   "metadata": {},
   "outputs": [
    {
     "name": "stdout",
     "output_type": "stream",
     "text": [
      "输入文本: 梅西卡塔尔首球！这一次，他能带领阿根廷圆梦吗？#2022世界杯\n",
      "最匹配的文本：\n",
      "0 tensor(1.) 梅西卡塔尔首球！这一次，他能带领阿根廷圆梦吗？#2022世界杯\n",
      "1 tensor(0.3865) 梅西世界杯首秀！你期待吗？#阿根廷vs沙特阿拉伯 #2022世界杯 #卡塔尔世界杯 #2022卡塔尔\n",
      "2 tensor(0.2467) 心疼#梅西 ！阿根廷1:2败给沙特，世界杯史上最大冷门诞生#2022世界杯 #卡塔尔世界杯 #足球\n"
     ]
    }
   ],
   "source": [
    "show_most_sim_text('梅西卡塔尔首球！这一次，他能带领阿根廷圆梦吗？#2022世界杯')"
   ]
  },
  {
   "cell_type": "code",
   "execution_count": 23,
   "metadata": {},
   "outputs": [
    {
     "name": "stdout",
     "output_type": "stream",
     "text": [
      "输入文本: 抖音\n",
      "最匹配的文本：\n",
      "0 tensor(0.3369) 狗：凭智力争取一整份包子@抖音小助手 #萌宠成精了 #抖音动物图鉴\n",
      "1 tensor(0.1682) 世界杯首支揭幕战输球的东道主！卡塔尔0-2不敌厄瓜多尔，看台上卡塔尔球迷表情凝重@抖音小助手\n",
      "2 tensor(0.1673) 感谢抖音平台给我们上个视频1000万+的播放量，感谢喜欢我们视频的每一位朋友！坚持做自己喜欢的事情，有梦想就要努力的去实现它#真人真唱 #支持抖音传播正能量 #我要上热门 @DOU……版本过低，升级后可展示全部信息\n"
     ]
    }
   ],
   "source": [
    "show_most_sim_text('抖音')"
   ]
  }
 ],
 "metadata": {
  "interpreter": {
   "hash": "b8d9c5844ce5be7f1f09a380337286978343066dae6e359f1c1e8e0a7d0f8b49"
  },
  "kernelspec": {
   "display_name": "Python 3.8.8 ('base')",
   "language": "python",
   "name": "python3"
  },
  "language_info": {
   "codemirror_mode": {
    "name": "ipython",
    "version": 3
   },
   "file_extension": ".py",
   "mimetype": "text/x-python",
   "name": "python",
   "nbconvert_exporter": "python",
   "pygments_lexer": "ipython3",
   "version": "3.8.8"
  },
  "orig_nbformat": 4
 },
 "nbformat": 4,
 "nbformat_minor": 2
}
